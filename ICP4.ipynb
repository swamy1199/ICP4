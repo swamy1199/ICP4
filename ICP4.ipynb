{
 "cells": [
  {
   "cell_type": "code",
   "execution_count": 2,
   "id": "f61565e9",
   "metadata": {},
   "outputs": [],
   "source": [
    "import numpy as np\n",
    "import pandas as pd"
   ]
  },
  {
   "cell_type": "code",
   "execution_count": 3,
   "id": "7693e090",
   "metadata": {},
   "outputs": [
    {
     "ename": "UnicodeDecodeError",
     "evalue": "'utf-8' codec can't decode byte 0xcd in position 43: invalid continuation byte",
     "output_type": "error",
     "traceback": [
      "\u001b[1;31m---------------------------------------------------------------------------\u001b[0m",
      "\u001b[1;31mUnicodeDecodeError\u001b[0m                        Traceback (most recent call last)",
      "\u001b[1;32mc:\\Users\\bharg\\OneDrive\\Desktop\\700740474_NN_ICP4\\ICP4.ipynb Cell 2\u001b[0m line \u001b[0;36m2\n\u001b[0;32m      <a href='vscode-notebook-cell:/c%3A/Users/bharg/OneDrive/Desktop/700740474_NN_ICP4/ICP4.ipynb#W1sZmlsZQ%3D%3D?line=0'>1</a>\u001b[0m \u001b[39m#Read the provided CSV file ‘data.csv’\u001b[39;00m\n\u001b[1;32m----> <a href='vscode-notebook-cell:/c%3A/Users/bharg/OneDrive/Desktop/700740474_NN_ICP4/ICP4.ipynb#W1sZmlsZQ%3D%3D?line=1'>2</a>\u001b[0m data_Manip \u001b[39m=\u001b[39m pd\u001b[39m.\u001b[39;49mread_csv(\u001b[39m'\u001b[39;49m\u001b[39mdata.csv\u001b[39;49m\u001b[39m'\u001b[39;49m)\n\u001b[0;32m      <a href='vscode-notebook-cell:/c%3A/Users/bharg/OneDrive/Desktop/700740474_NN_ICP4/ICP4.ipynb#W1sZmlsZQ%3D%3D?line=2'>3</a>\u001b[0m data_Manip\u001b[39m.\u001b[39minfo()\n",
      "File \u001b[1;32m~\\AppData\\Local\\Packages\\PythonSoftwareFoundation.Python.3.11_qbz5n2kfra8p0\\LocalCache\\local-packages\\Python311\\site-packages\\pandas\\io\\parsers\\readers.py:1024\u001b[0m, in \u001b[0;36mread_csv\u001b[1;34m(filepath_or_buffer, sep, delimiter, header, names, index_col, usecols, dtype, engine, converters, true_values, false_values, skipinitialspace, skiprows, skipfooter, nrows, na_values, keep_default_na, na_filter, verbose, skip_blank_lines, parse_dates, infer_datetime_format, keep_date_col, date_parser, date_format, dayfirst, cache_dates, iterator, chunksize, compression, thousands, decimal, lineterminator, quotechar, quoting, doublequote, escapechar, comment, encoding, encoding_errors, dialect, on_bad_lines, delim_whitespace, low_memory, memory_map, float_precision, storage_options, dtype_backend)\u001b[0m\n\u001b[0;32m   1011\u001b[0m kwds_defaults \u001b[39m=\u001b[39m _refine_defaults_read(\n\u001b[0;32m   1012\u001b[0m     dialect,\n\u001b[0;32m   1013\u001b[0m     delimiter,\n\u001b[1;32m   (...)\u001b[0m\n\u001b[0;32m   1020\u001b[0m     dtype_backend\u001b[39m=\u001b[39mdtype_backend,\n\u001b[0;32m   1021\u001b[0m )\n\u001b[0;32m   1022\u001b[0m kwds\u001b[39m.\u001b[39mupdate(kwds_defaults)\n\u001b[1;32m-> 1024\u001b[0m \u001b[39mreturn\u001b[39;00m _read(filepath_or_buffer, kwds)\n",
      "File \u001b[1;32m~\\AppData\\Local\\Packages\\PythonSoftwareFoundation.Python.3.11_qbz5n2kfra8p0\\LocalCache\\local-packages\\Python311\\site-packages\\pandas\\io\\parsers\\readers.py:618\u001b[0m, in \u001b[0;36m_read\u001b[1;34m(filepath_or_buffer, kwds)\u001b[0m\n\u001b[0;32m    615\u001b[0m _validate_names(kwds\u001b[39m.\u001b[39mget(\u001b[39m\"\u001b[39m\u001b[39mnames\u001b[39m\u001b[39m\"\u001b[39m, \u001b[39mNone\u001b[39;00m))\n\u001b[0;32m    617\u001b[0m \u001b[39m# Create the parser.\u001b[39;00m\n\u001b[1;32m--> 618\u001b[0m parser \u001b[39m=\u001b[39m TextFileReader(filepath_or_buffer, \u001b[39m*\u001b[39;49m\u001b[39m*\u001b[39;49mkwds)\n\u001b[0;32m    620\u001b[0m \u001b[39mif\u001b[39;00m chunksize \u001b[39mor\u001b[39;00m iterator:\n\u001b[0;32m    621\u001b[0m     \u001b[39mreturn\u001b[39;00m parser\n",
      "File \u001b[1;32m~\\AppData\\Local\\Packages\\PythonSoftwareFoundation.Python.3.11_qbz5n2kfra8p0\\LocalCache\\local-packages\\Python311\\site-packages\\pandas\\io\\parsers\\readers.py:1618\u001b[0m, in \u001b[0;36mTextFileReader.__init__\u001b[1;34m(self, f, engine, **kwds)\u001b[0m\n\u001b[0;32m   1615\u001b[0m     \u001b[39mself\u001b[39m\u001b[39m.\u001b[39moptions[\u001b[39m\"\u001b[39m\u001b[39mhas_index_names\u001b[39m\u001b[39m\"\u001b[39m] \u001b[39m=\u001b[39m kwds[\u001b[39m\"\u001b[39m\u001b[39mhas_index_names\u001b[39m\u001b[39m\"\u001b[39m]\n\u001b[0;32m   1617\u001b[0m \u001b[39mself\u001b[39m\u001b[39m.\u001b[39mhandles: IOHandles \u001b[39m|\u001b[39m \u001b[39mNone\u001b[39;00m \u001b[39m=\u001b[39m \u001b[39mNone\u001b[39;00m\n\u001b[1;32m-> 1618\u001b[0m \u001b[39mself\u001b[39m\u001b[39m.\u001b[39m_engine \u001b[39m=\u001b[39m \u001b[39mself\u001b[39;49m\u001b[39m.\u001b[39;49m_make_engine(f, \u001b[39mself\u001b[39;49m\u001b[39m.\u001b[39;49mengine)\n",
      "File \u001b[1;32m~\\AppData\\Local\\Packages\\PythonSoftwareFoundation.Python.3.11_qbz5n2kfra8p0\\LocalCache\\local-packages\\Python311\\site-packages\\pandas\\io\\parsers\\readers.py:1896\u001b[0m, in \u001b[0;36mTextFileReader._make_engine\u001b[1;34m(self, f, engine)\u001b[0m\n\u001b[0;32m   1893\u001b[0m     \u001b[39mraise\u001b[39;00m \u001b[39mValueError\u001b[39;00m(msg)\n\u001b[0;32m   1895\u001b[0m \u001b[39mtry\u001b[39;00m:\n\u001b[1;32m-> 1896\u001b[0m     \u001b[39mreturn\u001b[39;00m mapping[engine](f, \u001b[39m*\u001b[39;49m\u001b[39m*\u001b[39;49m\u001b[39mself\u001b[39;49m\u001b[39m.\u001b[39;49moptions)\n\u001b[0;32m   1897\u001b[0m \u001b[39mexcept\u001b[39;00m \u001b[39mException\u001b[39;00m:\n\u001b[0;32m   1898\u001b[0m     \u001b[39mif\u001b[39;00m \u001b[39mself\u001b[39m\u001b[39m.\u001b[39mhandles \u001b[39mis\u001b[39;00m \u001b[39mnot\u001b[39;00m \u001b[39mNone\u001b[39;00m:\n",
      "File \u001b[1;32m~\\AppData\\Local\\Packages\\PythonSoftwareFoundation.Python.3.11_qbz5n2kfra8p0\\LocalCache\\local-packages\\Python311\\site-packages\\pandas\\io\\parsers\\c_parser_wrapper.py:93\u001b[0m, in \u001b[0;36mCParserWrapper.__init__\u001b[1;34m(self, src, **kwds)\u001b[0m\n\u001b[0;32m     90\u001b[0m \u001b[39mif\u001b[39;00m kwds[\u001b[39m\"\u001b[39m\u001b[39mdtype_backend\u001b[39m\u001b[39m\"\u001b[39m] \u001b[39m==\u001b[39m \u001b[39m\"\u001b[39m\u001b[39mpyarrow\u001b[39m\u001b[39m\"\u001b[39m:\n\u001b[0;32m     91\u001b[0m     \u001b[39m# Fail here loudly instead of in cython after reading\u001b[39;00m\n\u001b[0;32m     92\u001b[0m     import_optional_dependency(\u001b[39m\"\u001b[39m\u001b[39mpyarrow\u001b[39m\u001b[39m\"\u001b[39m)\n\u001b[1;32m---> 93\u001b[0m \u001b[39mself\u001b[39m\u001b[39m.\u001b[39m_reader \u001b[39m=\u001b[39m parsers\u001b[39m.\u001b[39;49mTextReader(src, \u001b[39m*\u001b[39;49m\u001b[39m*\u001b[39;49mkwds)\n\u001b[0;32m     95\u001b[0m \u001b[39mself\u001b[39m\u001b[39m.\u001b[39munnamed_cols \u001b[39m=\u001b[39m \u001b[39mself\u001b[39m\u001b[39m.\u001b[39m_reader\u001b[39m.\u001b[39munnamed_cols\n\u001b[0;32m     97\u001b[0m \u001b[39m# error: Cannot determine type of 'names'\u001b[39;00m\n",
      "File \u001b[1;32mparsers.pyx:574\u001b[0m, in \u001b[0;36mpandas._libs.parsers.TextReader.__cinit__\u001b[1;34m()\u001b[0m\n",
      "File \u001b[1;32mparsers.pyx:663\u001b[0m, in \u001b[0;36mpandas._libs.parsers.TextReader._get_header\u001b[1;34m()\u001b[0m\n",
      "File \u001b[1;32mparsers.pyx:874\u001b[0m, in \u001b[0;36mpandas._libs.parsers.TextReader._tokenize_rows\u001b[1;34m()\u001b[0m\n",
      "File \u001b[1;32mparsers.pyx:891\u001b[0m, in \u001b[0;36mpandas._libs.parsers.TextReader._check_tokenize_status\u001b[1;34m()\u001b[0m\n",
      "File \u001b[1;32mparsers.pyx:2053\u001b[0m, in \u001b[0;36mpandas._libs.parsers.raise_parser_error\u001b[1;34m()\u001b[0m\n",
      "\u001b[1;31mUnicodeDecodeError\u001b[0m: 'utf-8' codec can't decode byte 0xcd in position 43: invalid continuation byte"
     ]
    }
   ],
   "source": [
    "#Read the provided CSV file ‘data.csv’\n",
    "data_Manip = pd.read_csv('\\data.csv')\n",
    "data_Manip.info()"
   ]
  },
  {
   "cell_type": "code",
   "execution_count": 4,
   "id": "22fd8134",
   "metadata": {},
   "outputs": [
    {
     "ename": "NameError",
     "evalue": "name 'data_Manip' is not defined",
     "output_type": "error",
     "traceback": [
      "\u001b[1;31m---------------------------------------------------------------------------\u001b[0m",
      "\u001b[1;31mNameError\u001b[0m                                 Traceback (most recent call last)",
      "\u001b[1;32mc:\\Users\\bharg\\OneDrive\\Desktop\\700740474_NN_ICP4\\ICP4.ipynb Cell 3\u001b[0m line \u001b[0;36m2\n\u001b[0;32m      <a href='vscode-notebook-cell:/c%3A/Users/bharg/OneDrive/Desktop/700740474_NN_ICP4/ICP4.ipynb#W2sZmlsZQ%3D%3D?line=0'>1</a>\u001b[0m \u001b[39m#(c) Show the basic statistical description about the data.\u001b[39;00m\n\u001b[1;32m----> <a href='vscode-notebook-cell:/c%3A/Users/bharg/OneDrive/Desktop/700740474_NN_ICP4/ICP4.ipynb#W2sZmlsZQ%3D%3D?line=1'>2</a>\u001b[0m data_Manip\u001b[39m.\u001b[39mhead()\n",
      "\u001b[1;31mNameError\u001b[0m: name 'data_Manip' is not defined"
     ]
    }
   ],
   "source": [
    "#(c) Show the basic statistical description about the data.\n",
    "data_Manip.head()"
   ]
  },
  {
   "cell_type": "code",
   "execution_count": null,
   "id": "ca2f0b80",
   "metadata": {},
   "outputs": [],
   "source": [
    "#(d)Check if the data has null values.\n",
    "data_Manip.isnull().any()"
   ]
  },
  {
   "cell_type": "code",
   "execution_count": null,
   "id": "2e2e5f88",
   "metadata": {},
   "outputs": [],
   "source": [
    "data_Manip.fillna(data_Manip.mean(), inplace=True)\n",
    "data_Manip.isnull().any()"
   ]
  },
  {
   "cell_type": "code",
   "execution_count": null,
   "id": "5b0f2953",
   "metadata": {},
   "outputs": [],
   "source": [
    "#d(i)Replace the null values with the mean\n",
    "column_means = data_Manip.mean()\n",
    "print(column_means)\n",
    "data_Manip = data_Manip. fillna(column_means)\n",
    "print(data_Manip.head(20))"
   ]
  },
  {
   "cell_type": "code",
   "execution_count": null,
   "id": "055ca1c1",
   "metadata": {},
   "outputs": [],
   "source": [
    "#(e)Select at least two columns and aggregate the data using: min, max, count, mean.\n",
    "res = data_Manip.agg({'Calories': ['mean', 'min','max', 'count'],'Pulse': ['mean', 'min', 'max', 'count']})\n",
    "print(res)"
   ]
  },
  {
   "cell_type": "code",
   "execution_count": null,
   "id": "aa414933",
   "metadata": {},
   "outputs": [],
   "source": [
    "#(f)Filter the dataframe to select the rows with calories values between 500 and 1000\n",
    "filter_data_Manip1=data_Manip[(data_Manip['Calories'] > 500) & (data_Manip['Calories'] < 1000)]\n",
    "print(filter_data_Manip1)"
   ]
  },
  {
   "cell_type": "code",
   "execution_count": null,
   "id": "29778fe9",
   "metadata": {},
   "outputs": [],
   "source": [
    "#(g)Filter the dataframe to select the rows with calories values > 500 and pulse < 100.\n",
    "filter_data_Manip2=data_Manip[(data_Manip['Calories'] > 500) & (data_Manip['Pulse'] < 100)]\n",
    "print(filter_data_Manip2)"
   ]
  },
  {
   "cell_type": "code",
   "execution_count": null,
   "id": "04fd2bac",
   "metadata": {},
   "outputs": [],
   "source": [
    "#(h)Create a new “df_modified” dataframe that contains all the columns from dst_data except for\n",
    "#“Maxpulse”.\n",
    "data_modified = data_Manip.loc[:, data_Manip.columns != 'Maxpulse']\n",
    "print(data_modified)"
   ]
  },
  {
   "cell_type": "code",
   "execution_count": null,
   "id": "9a8814f9",
   "metadata": {},
   "outputs": [],
   "source": [
    "#(i). Delete the “Maxpulse” column from the main dst_data dataframe\n",
    "data_Manip.drop('Maxpulse', inplace=True, axis=1)\n",
    "print(data_Manip.dtypes)"
   ]
  },
  {
   "cell_type": "code",
   "execution_count": null,
   "id": "6b0aa803",
   "metadata": {},
   "outputs": [],
   "source": [
    "#(j). Convert the datatype of Calories column to int datatype\n",
    "data_Manip[\"Calories\"] = data_Manip[\"Calories\"].astype(float).astype(int)\n",
    "print(data_Manip.dtypes)"
   ]
  },
  {
   "cell_type": "code",
   "execution_count": null,
   "id": "aee4480d",
   "metadata": {},
   "outputs": [],
   "source": [
    "#(k)Using pandas create a scatter plot for the two columns (Duration and Calories).\n",
    "sp1 = data_Manip.plot.scatter(x='Duration',y='Calories')\n",
    "print(sp1)"
   ]
  },
  {
   "cell_type": "code",
   "execution_count": null,
   "id": "a1a3a6d1",
   "metadata": {},
   "outputs": [],
   "source": [
    "# 2(a) Import the given “Salary_Data.csv”\n",
    "Lin_Re = pd.read_csv('C:\\\\Users\\\\Geetha Rapolu\\\\Downloads\\\\Salary_Data.csv')\n",
    "Lin_Re.info()\n",
    "Lin_Re.head()"
   ]
  },
  {
   "cell_type": "code",
   "execution_count": null,
   "id": "f10c2b19",
   "metadata": {},
   "outputs": [],
   "source": [
    "#excluding last column i.e., years of experience column\n",
    "A = Lin_Re.iloc[:, :-1].values   \n",
    "#only salary column\n",
    "B = Lin_Re.iloc[:, 1].values "
   ]
  },
  {
   "cell_type": "code",
   "execution_count": null,
   "id": "c7007fc4",
   "metadata": {},
   "outputs": [],
   "source": [
    "# (b) Split the data in train_test partitions, such that 1/3 of the data is reserved as test subset.\n",
    "from sklearn.model_selection import train_test_split \n",
    "A_train, A_test, B_train, B_test = train_test_split(A, B, test_size=1/3, random_state=0)"
   ]
  },
  {
   "cell_type": "code",
   "execution_count": null,
   "id": "3cd44676",
   "metadata": {},
   "outputs": [],
   "source": [
    "# (c) Train and predict the model.\n",
    "from sklearn.linear_model import LinearRegression\n",
    "lRegression = LinearRegression()\n",
    "lRegression.fit(A_train, B_train)\n",
    "B_Pred = lRegression.predict(A_test)\n",
    "B_Pred"
   ]
  },
  {
   "cell_type": "code",
   "execution_count": null,
   "id": "22d7f79e",
   "metadata": {},
   "outputs": [],
   "source": [
    "# (d) Calculate the mean_squared error\n",
    "Sum_Serror = np.sum((B_Pred - B_test) ** 2)\n",
    "mean_squared_error = Sum_Serror / B_test.size\n",
    "mean_squared_error"
   ]
  },
  {
   "cell_type": "code",
   "execution_count": null,
   "id": "8a93f841",
   "metadata": {},
   "outputs": [],
   "source": [
    "# (e) Visualize both train and test data using scatter plot.\n",
    "import matplotlib.pyplot as plt\n",
    "# Training Data set\n",
    "plt.scatter(A_train, B_train)\n",
    "plt.plot(A_train, lRegression.predict(A_train), color='red')\n",
    "plt.title('Training Set')\n",
    "plt.show()"
   ]
  },
  {
   "cell_type": "code",
   "execution_count": null,
   "id": "c4751a57",
   "metadata": {},
   "outputs": [],
   "source": [
    "# Testing Data set\n",
    "plt.scatter(A_test, B_test)\n",
    "plt.plot(A_test, lRegression.predict(A_test), color='red')\n",
    "plt.title('Testing Set')\n",
    "plt.show()"
   ]
  },
  {
   "cell_type": "code",
   "execution_count": null,
   "id": "a68a6b44",
   "metadata": {},
   "outputs": [],
   "source": []
  }
 ],
 "metadata": {
  "kernelspec": {
   "display_name": "Python 3 (ipykernel)",
   "language": "python",
   "name": "python3"
  },
  "language_info": {
   "codemirror_mode": {
    "name": "ipython",
    "version": 3
   },
   "file_extension": ".py",
   "mimetype": "text/x-python",
   "name": "python",
   "nbconvert_exporter": "python",
   "pygments_lexer": "ipython3",
   "version": "3.11.7"
  }
 },
 "nbformat": 4,
 "nbformat_minor": 5
}
